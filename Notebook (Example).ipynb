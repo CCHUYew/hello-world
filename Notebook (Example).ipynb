{
    "cells": [
        {
            "cell_type": "markdown",
            "metadata": {},
            "source": "# Description\n\nThis is a test line"
        },
        {
            "cell_type": "code",
            "execution_count": 1,
            "metadata": {},
            "outputs": [
                {
                    "data": {
                        "text/html": "<div>\n<style scoped>\n    .dataframe tbody tr th:only-of-type {\n        vertical-align: middle;\n    }\n\n    .dataframe tbody tr th {\n        vertical-align: top;\n    }\n\n    .dataframe thead th {\n        text-align: right;\n    }\n</style>\n<table border=\"1\" class=\"dataframe\">\n  <thead>\n    <tr style=\"text-align: right;\">\n      <th></th>\n      <th>latitude</th>\n      <th>longitude</th>\n      <th>brightness</th>\n      <th>scan</th>\n      <th>track</th>\n      <th>acq_date</th>\n      <th>acq_time</th>\n      <th>satellite</th>\n      <th>confidence</th>\n      <th>version</th>\n      <th>bright_t31</th>\n      <th>frp</th>\n      <th>daynight</th>\n    </tr>\n  </thead>\n  <tbody>\n    <tr>\n      <th>0</th>\n      <td>-13.505</td>\n      <td>-172.586</td>\n      <td>310.6</td>\n      <td>3.8</td>\n      <td>1.8</td>\n      <td>2018-09-22</td>\n      <td>35</td>\n      <td>A</td>\n      <td>0</td>\n      <td>6.0NRT</td>\n      <td>294.0</td>\n      <td>39.7</td>\n      <td>D</td>\n    </tr>\n    <tr>\n      <th>1</th>\n      <td>-0.380</td>\n      <td>-160.008</td>\n      <td>310.7</td>\n      <td>2.0</td>\n      <td>1.4</td>\n      <td>2018-09-22</td>\n      <td>35</td>\n      <td>A</td>\n      <td>39</td>\n      <td>6.0NRT</td>\n      <td>298.0</td>\n      <td>18.0</td>\n      <td>D</td>\n    </tr>\n    <tr>\n      <th>2</th>\n      <td>-4.093</td>\n      <td>145.066</td>\n      <td>312.7</td>\n      <td>1.4</td>\n      <td>1.2</td>\n      <td>2018-09-22</td>\n      <td>100</td>\n      <td>T</td>\n      <td>0</td>\n      <td>6.0NRT</td>\n      <td>297.4</td>\n      <td>14.0</td>\n      <td>D</td>\n    </tr>\n    <tr>\n      <th>3</th>\n      <td>-5.938</td>\n      <td>147.053</td>\n      <td>314.0</td>\n      <td>2.1</td>\n      <td>1.4</td>\n      <td>2018-09-22</td>\n      <td>100</td>\n      <td>T</td>\n      <td>0</td>\n      <td>6.0NRT</td>\n      <td>295.7</td>\n      <td>17.0</td>\n      <td>D</td>\n    </tr>\n    <tr>\n      <th>4</th>\n      <td>-6.935</td>\n      <td>146.309</td>\n      <td>314.9</td>\n      <td>1.9</td>\n      <td>1.3</td>\n      <td>2018-09-22</td>\n      <td>100</td>\n      <td>T</td>\n      <td>74</td>\n      <td>6.0NRT</td>\n      <td>292.2</td>\n      <td>21.6</td>\n      <td>D</td>\n    </tr>\n  </tbody>\n</table>\n</div>",
                        "text/plain": "   latitude  longitude  brightness  scan  track    acq_date  acq_time  \\\n0   -13.505   -172.586       310.6   3.8    1.8  2018-09-22        35   \n1    -0.380   -160.008       310.7   2.0    1.4  2018-09-22        35   \n2    -4.093    145.066       312.7   1.4    1.2  2018-09-22       100   \n3    -5.938    147.053       314.0   2.1    1.4  2018-09-22       100   \n4    -6.935    146.309       314.9   1.9    1.3  2018-09-22       100   \n\n  satellite  confidence version  bright_t31   frp daynight  \n0         A           0  6.0NRT       294.0  39.7        D  \n1         A          39  6.0NRT       298.0  18.0        D  \n2         T           0  6.0NRT       297.4  14.0        D  \n3         T           0  6.0NRT       295.7  17.0        D  \n4         T          74  6.0NRT       292.2  21.6        D  "
                    },
                    "execution_count": 1,
                    "metadata": {},
                    "output_type": "execute_result"
                }
            ],
            "source": "# The code was removed by Watson Studio for sharing."
        },
        {
            "cell_type": "code",
            "execution_count": null,
            "metadata": {},
            "outputs": [],
            "source": ""
        }
    ],
    "metadata": {
        "kernelspec": {
            "display_name": "Python 3.6",
            "language": "python",
            "name": "python3"
        },
        "language_info": {
            "codemirror_mode": {
                "name": "ipython",
                "version": 3
            },
            "file_extension": ".py",
            "mimetype": "text/x-python",
            "name": "python",
            "nbconvert_exporter": "python",
            "pygments_lexer": "ipython3",
            "version": "3.6.9"
        }
    },
    "nbformat": 4,
    "nbformat_minor": 1
}